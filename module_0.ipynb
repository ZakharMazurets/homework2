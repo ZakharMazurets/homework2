{
 "cells": [
  {
   "cell_type": "code",
   "execution_count": 28,
   "metadata": {},
   "outputs": [],
   "source": [
    "\n",
    "def generate_guess_number(minimum,maximum):\n",
    "    \"\"\"Generate random integet number bettween minimum and maximum\"\"\"\n",
    "    import numpy as np\n",
    "    number = np.random.randint(minimum,maximum+1)\n",
    "    return number\n",
    "\n",
    "\n",
    "def give_player_answer(goal_number,current_guess):\n",
    "    \"\"\"returns 1,2,3:\n",
    "        \"1\" if goal_number equals to current_guess\n",
    "        \"2\" if goal_number is higer then current_guess\n",
    "        \"3\" if goal_number is less then current_guess\"\"\"\n",
    "    if goal_number==current_guess:\n",
    "        return 1\n",
    "    if goal_number>current_guess:\n",
    "        return 2\n",
    "    if goal_number<current_guess:\n",
    "        return 3\n",
    "    \n",
    "    \n",
    "def guess_algorithm(minimum,maximum,goal_number):\n",
    "    \"\"\"guess integer number  bettween minimum and maximum \n",
    "    using answers from give_player_answer() function\n",
    "    goal_number-is the number that should be guessed\"\"\"\n",
    "    minimum_treshold=minimum\n",
    "    maximum_treshold=maximum\n",
    "    guess_count=0\n",
    "    while True:\n",
    "        if  minimum_treshold==maximum - 1:\n",
    "            guess_count+=1\n",
    "            answer=give_player_answer(goal_number,maximum)\n",
    "        else:\n",
    "            guess_count+=1\n",
    "            current_guess=(minimum_treshold+maximum_treshold)//2\n",
    "            answer=give_player_answer(goal_number,current_guess)\n",
    "        if answer==1:\n",
    "            return guess_count\n",
    "        elif answer==2:\n",
    "            minimum_treshold=current_guess\n",
    "        else:\n",
    "            maximum_treshold=current_guess\n",
    "\n",
    "            \n",
    "def guess_generator(number_of_games,minimum=1,maximum=100):\n",
    "    \"\"\"generates number_of_games guess sessions and returns avg required attempts\"\"\"\n",
    "    games_count=0\n",
    "    guess_counter=[]\n",
    "    while games_count<number_of_games:\n",
    "        goal_number=generate_guess_number(minimum,maximum)  \n",
    "        guess_counter.append(guess_algorithm(minimum,maximum,goal_number))\n",
    "        games_count+=1\n",
    "    attemts_count=sum(guess_counter)/len(guess_counter)\n",
    "    print(\"Ваш алгоритм угадывает число в диапазоне({one},{two})в среднем за {three} итераций \"\\\n",
    "          .format(one=minimum, two=maximum,three=attemts_count))"
   ]
  },
  {
   "cell_type": "code",
   "execution_count": 29,
   "metadata": {},
   "outputs": [
    {
     "name": "stdout",
     "output_type": "stream",
     "text": [
      "Ваш алгоритм угадывает число в диапазоне(1,100000)в среднем за 15.66 итераций \n"
     ]
    }
   ],
   "source": [
    "guess_generator(100,1,100000)"
   ]
  },
  {
   "cell_type": "code",
   "execution_count": null,
   "metadata": {},
   "outputs": [],
   "source": []
  }
 ],
 "metadata": {
  "kernelspec": {
   "display_name": "Python 3",
   "language": "python",
   "name": "python3"
  },
  "language_info": {
   "codemirror_mode": {
    "name": "ipython",
    "version": 3
   },
   "file_extension": ".py",
   "mimetype": "text/x-python",
   "name": "python",
   "nbconvert_exporter": "python",
   "pygments_lexer": "ipython3",
   "version": "3.7.1"
  }
 },
 "nbformat": 4,
 "nbformat_minor": 2
}
